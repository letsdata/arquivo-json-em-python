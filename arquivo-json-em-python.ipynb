{
 "cells": [
  {
   "cell_type": "markdown",
   "id": "a18dd55e",
   "metadata": {},
   "source": [
    "# Live Let's Data #014 - Arquivos JSON em Python"
   ]
  },
  {
   "cell_type": "markdown",
   "id": "bf65c8a7",
   "metadata": {},
   "source": [
    "---\n",
    "\n",
    "O Let's Data produz conteúdos gratuitos sobre Data Science!\n",
    "\n",
    "Confira algumas das nossa produções:\n",
    "\n",
    "* [Livro Digital - Como se tornar um Cientista de Dados?](https://ebook.letsdata.ai/)\n",
    "* [Inscreva-se no canal no YouTube](https://www.youtube.com/c/LetsDataAI?sub_confirmation=1)\n",
    "* [Siga-nos no Instagram](https://www.instagram.com/letsdata.ai)\n",
    "* Ouça nosso Podcast no [Spotify](https://open.spotify.com/show/0VsNN95jsJVRS424eCFDlg?si=EvQ1KBq1SqGVD4ojHrx4eQ), [Google Podcast](https://podcasts.google.com/feed/aHR0cHM6Ly9mZWVkcy5idXp6c3Byb3V0LmNvbS8xNzMxMjUyLnJzcw), [Apple Podcasts](https://podcasts.apple.com/us/podcast/lets-data-podcast/id1559072194), [Castbox](https://castbox.fm/vic/1559072194), [Deezer](https://www.deezer.com/show/2770422) e demais players. \n",
    "* Também estamosn o [LinkedIn](https://linkedin.com/company/lets-data), [Twitter](https://twitter.com/letsdataAI), [Facebook](https://www.facebook.com/letsdataAI/).\n",
    "* [Pra finalizar, nosso blog no Medium](https://medium.com/lets-data).\n",
    "\n",
    "---"
   ]
  },
  {
   "cell_type": "markdown",
   "id": "521097a0",
   "metadata": {},
   "source": [
    "## Vamos pro conteúdo desta live!\n",
    "\n",
    "Jay son, JSON! Temos que falar direito porque os freelas em dólar estão na área!\n",
    "\n",
    "Vamos aprender um pouquinho sobre manipulação do mais que onipresente formato JSON. Arquivos de configuração, requisições e respostas de APIs, fixtures e tantas outras aplicações desse formatinho que praticamente acabou com o XML.\n",
    "\n",
    "Nossa sorte é que o Python simplesmente AMA esse formato, pois parece muito com os dicionários. Temos de graça, sem necessidade de pacotes adicionais, um bom arcabouço para ler, escrever e manipular esses tipos de arquivos. Uma referência ótima é a própria [documentação do Python](https://docs.python.org/3/library/json.html)\n",
    "\n",
    "Mas como nosso foco é ciência de dados, vamos apresentar também como o pandas faz pra tratar esse tipo de arquivos!\n",
    "\n",
    "Então, chega de churumelas e vamos para algumas manipulações de arquivo json!"
   ]
  },
  {
   "cell_type": "code",
   "execution_count": 1,
   "id": "62c1840c",
   "metadata": {},
   "outputs": [],
   "source": [
    "#!pip install pandas"
   ]
  },
  {
   "cell_type": "code",
   "execution_count": 2,
   "id": "c669263a",
   "metadata": {},
   "outputs": [],
   "source": [
    "import json\n",
    "import pandas as pd"
   ]
  },
  {
   "cell_type": "markdown",
   "id": "fa00d84a",
   "metadata": {},
   "source": [
    "## <a> Encode/Decode </a> \n",
    "\n",
    "\n",
    "Funcionalidades:\n",
    "- Carregar (load/decode) = transformar string/arquivo json para objeto python\n",
    "- Descarregar (dump/encode) = transformar objeto python em json (string ou arquivo)\n",
    "\n",
    "Stream:\n",
    "- Arquivo: dump, load\n",
    "- String: dumps, loads (dump string e load string)"
   ]
  },
  {
   "cell_type": "markdown",
   "id": "c1b384ef",
   "metadata": {},
   "source": [
    "### <a> Arquivos </a> "
   ]
  },
  {
   "cell_type": "code",
   "execution_count": 3,
   "id": "74bee329",
   "metadata": {},
   "outputs": [
    {
     "data": {
      "text/plain": [
       "[{'name': 'Radiohead',\n",
       "  'albums': [{'title': 'The King of Limbs',\n",
       "    'songs': [{'title': 'Bloom', 'length': '5:15'},\n",
       "     {'title': 'Morning Mr Magpie', 'length': '4:41'},\n",
       "     {'title': 'Little by Little', 'length': '4:27'},\n",
       "     {'title': 'Feral', 'length': '3:13'},\n",
       "     {'title': 'Lotus Flower', 'length': '5:01'},\n",
       "     {'title': 'Codex', 'length': '4:47'},\n",
       "     {'title': 'Give Up the Ghost', 'length': '4:50'},\n",
       "     {'title': 'Separator', 'length': '5:20'}],\n",
       "    'description': '\\n\\tThe King of Limbs is the eighth studio album by English rock band Radiohead, produced by Nigel Godrich. It was self-released on 18 February 2011 as a download in MP3 and WAV formats, followed by physical CD and 12\" vinyl releases on 28 March, a wider digital release via AWAL, and a special \"newspaper\" edition on 9 May 2011. The physical editions were released through the band\\'s Ticker Tape imprint on XL in the United Kingdom, TBD in the United States, and Hostess Entertainment in Japan.\\n      '},\n",
       "   {'title': 'OK Computer',\n",
       "    'songs': [{'title': 'Airbag', 'length': '4:44'},\n",
       "     {'title': 'Paranoid Android', 'length': '6:23'},\n",
       "     {'title': 'Subterranean Homesick Alien', 'length': '4:27'},\n",
       "     {'title': 'Exit Music (For a Film)', 'length': '4:24'},\n",
       "     {'title': 'Let Down', 'length': '4:59'},\n",
       "     {'title': 'Karma Police', 'length': '4:21'},\n",
       "     {'title': 'Fitter Happier', 'length': '1:57'},\n",
       "     {'title': 'Electioneering', 'length': '3:50'},\n",
       "     {'title': 'Climbing Up the Walls', 'length': '4:45'},\n",
       "     {'title': 'No Surprises', 'length': '3:48'},\n",
       "     {'title': 'Lucky', 'length': '4:19'},\n",
       "     {'title': 'The Tourist', 'length': '5:24'}],\n",
       "    'description': \"\\n\\tOK Computer is the third studio album by the English alternative rock band Radiohead, released on 16 June 1997 on Parlophone in the United Kingdom and 1 July 1997 by Capitol Records in the United States. It marks a deliberate attempt by the band to move away from the introspective guitar-oriented sound of their previous album The Bends. Its layered sound and wide range of influences set it apart from many of the Britpop and alternative rock bands popular at the time and laid the groundwork for Radiohead's later, more experimental work.\\n      \"}]},\n",
       " {'name': 'Portishead',\n",
       "  'albums': [{'title': 'Dummy',\n",
       "    'songs': [{'title': 'Mysterons', 'length': '5:02'},\n",
       "     {'title': 'Sour Times', 'length': '4:11'},\n",
       "     {'title': 'Strangers', 'length': '3:55'},\n",
       "     {'title': 'It Could Be Sweet', 'length': '4:16'},\n",
       "     {'title': 'Wandering Star', 'length': '4:51'},\n",
       "     {'title': \"It's a Fire\", 'length': '3:49'},\n",
       "     {'title': 'Numb', 'length': '3:54'},\n",
       "     {'title': 'Roads', 'length': '5:02'},\n",
       "     {'title': 'Pedestal', 'length': '3:39'},\n",
       "     {'title': 'Biscuit', 'length': '5:01'},\n",
       "     {'title': 'Glory Box', 'length': '5:06'}],\n",
       "    'description': '\\n\\tDummy is the debut album of the Bristol-based group Portishead. Released in August 22, 1994 on Go! Discs, the album earned critical acclaim, winning the 1995 Mercury Music Prize. It is often credited with popularizing the trip-hop genre and is frequently cited in lists of the best albums of the 1990s. Although it achieved modest chart success overseas, it peaked at #2 on the UK Album Chart and saw two of its three singles reach #13. The album was certified gold in 1997 and has sold two million copies in Europe. As of September 2011, the album was certified double-platinum in the United Kingdom and has sold as of September 2011 825,000 copies.\\n      '},\n",
       "   {'title': 'Third',\n",
       "    'songs': [{'title': 'Silence', 'length': '4:58'},\n",
       "     {'title': 'Hunter', 'length': '3:57'},\n",
       "     {'title': 'Nylon Smile', 'length': '3:16'},\n",
       "     {'title': 'The Rip', 'length': '4:29'},\n",
       "     {'title': 'Plastic', 'length': '3:27'},\n",
       "     {'title': 'We Carry On', 'length': '6:27'},\n",
       "     {'title': 'Deep Water', 'length': '1:31'},\n",
       "     {'title': 'Machine Gun', 'length': '4:43'},\n",
       "     {'title': 'Small', 'length': '6:45'},\n",
       "     {'title': 'Magic Doors', 'length': '3:32'},\n",
       "     {'title': 'Threads', 'length': '5:45'}],\n",
       "    'description': \"\\n\\tThird is the third studio album by English musical group Portishead, released on 27 April 2008, on Island Records in the United Kingdom, two days after on Mercury Records in the United States, and on 30 April 2008 on Universal Music Japan in Japan. It is their first release in 10 years, and their first studio album in eleven years. Third entered the UK Album Chart at #2, and became the band's first-ever American Top 10 album on the Billboard 200, reaching #7 in its entry week.\\n      \"}]}]"
      ]
     },
     "execution_count": 3,
     "metadata": {},
     "output_type": "execute_result"
    }
   ],
   "source": [
    "# Lendo arquivo JSON, ou seja, carregar/decodificar/decode\n",
    "# Arquivo original disponível em https://gist.github.com/jasonbaldridge/2668632\n",
    "\n",
    "with open('./data/bands.json') as arquivo_json:\n",
    "    # objeto python recebendo o carregamento de um arquivo json\n",
    "    objeto_json = json.load(arquivo_json)\n",
    "\n",
    "objeto_json    "
   ]
  },
  {
   "cell_type": "code",
   "execution_count": 4,
   "id": "419e8697",
   "metadata": {},
   "outputs": [
    {
     "data": {
      "text/plain": [
       "list"
      ]
     },
     "execution_count": 4,
     "metadata": {},
     "output_type": "execute_result"
    }
   ],
   "source": [
    "type(objeto_json)"
   ]
  },
  {
   "cell_type": "code",
   "execution_count": 5,
   "id": "2b9c670b",
   "metadata": {},
   "outputs": [
    {
     "data": {
      "text/plain": [
       "{'name': 'Radiohead',\n",
       " 'albums': [{'title': 'The King of Limbs',\n",
       "   'songs': [{'title': 'Bloom', 'length': '5:15'},\n",
       "    {'title': 'Morning Mr Magpie', 'length': '4:41'},\n",
       "    {'title': 'Little by Little', 'length': '4:27'},\n",
       "    {'title': 'Feral', 'length': '3:13'},\n",
       "    {'title': 'Lotus Flower', 'length': '5:01'},\n",
       "    {'title': 'Codex', 'length': '4:47'},\n",
       "    {'title': 'Give Up the Ghost', 'length': '4:50'},\n",
       "    {'title': 'Separator', 'length': '5:20'}],\n",
       "   'description': '\\n\\tThe King of Limbs is the eighth studio album by English rock band Radiohead, produced by Nigel Godrich. It was self-released on 18 February 2011 as a download in MP3 and WAV formats, followed by physical CD and 12\" vinyl releases on 28 March, a wider digital release via AWAL, and a special \"newspaper\" edition on 9 May 2011. The physical editions were released through the band\\'s Ticker Tape imprint on XL in the United Kingdom, TBD in the United States, and Hostess Entertainment in Japan.\\n      '},\n",
       "  {'title': 'OK Computer',\n",
       "   'songs': [{'title': 'Airbag', 'length': '4:44'},\n",
       "    {'title': 'Paranoid Android', 'length': '6:23'},\n",
       "    {'title': 'Subterranean Homesick Alien', 'length': '4:27'},\n",
       "    {'title': 'Exit Music (For a Film)', 'length': '4:24'},\n",
       "    {'title': 'Let Down', 'length': '4:59'},\n",
       "    {'title': 'Karma Police', 'length': '4:21'},\n",
       "    {'title': 'Fitter Happier', 'length': '1:57'},\n",
       "    {'title': 'Electioneering', 'length': '3:50'},\n",
       "    {'title': 'Climbing Up the Walls', 'length': '4:45'},\n",
       "    {'title': 'No Surprises', 'length': '3:48'},\n",
       "    {'title': 'Lucky', 'length': '4:19'},\n",
       "    {'title': 'The Tourist', 'length': '5:24'}],\n",
       "   'description': \"\\n\\tOK Computer is the third studio album by the English alternative rock band Radiohead, released on 16 June 1997 on Parlophone in the United Kingdom and 1 July 1997 by Capitol Records in the United States. It marks a deliberate attempt by the band to move away from the introspective guitar-oriented sound of their previous album The Bends. Its layered sound and wide range of influences set it apart from many of the Britpop and alternative rock bands popular at the time and laid the groundwork for Radiohead's later, more experimental work.\\n      \"}]}"
      ]
     },
     "execution_count": 5,
     "metadata": {},
     "output_type": "execute_result"
    }
   ],
   "source": [
    "objeto_json[0]"
   ]
  },
  {
   "cell_type": "code",
   "execution_count": 6,
   "id": "75b2ba97",
   "metadata": {},
   "outputs": [
    {
     "data": {
      "text/plain": [
       "dict"
      ]
     },
     "execution_count": 6,
     "metadata": {},
     "output_type": "execute_result"
    }
   ],
   "source": [
    "type(objeto_json[0])"
   ]
  },
  {
   "cell_type": "code",
   "execution_count": 7,
   "id": "759ca8f7",
   "metadata": {},
   "outputs": [
    {
     "data": {
      "text/plain": [
       "{'name': 'Portishead',\n",
       " 'albums': [{'title': 'Dummy',\n",
       "   'songs': [{'title': 'Mysterons', 'length': '5:02'},\n",
       "    {'title': 'Sour Times', 'length': '4:11'},\n",
       "    {'title': 'Strangers', 'length': '3:55'},\n",
       "    {'title': 'It Could Be Sweet', 'length': '4:16'},\n",
       "    {'title': 'Wandering Star', 'length': '4:51'},\n",
       "    {'title': \"It's a Fire\", 'length': '3:49'},\n",
       "    {'title': 'Numb', 'length': '3:54'},\n",
       "    {'title': 'Roads', 'length': '5:02'},\n",
       "    {'title': 'Pedestal', 'length': '3:39'},\n",
       "    {'title': 'Biscuit', 'length': '5:01'},\n",
       "    {'title': 'Glory Box', 'length': '5:06'}],\n",
       "   'description': '\\n\\tDummy is the debut album of the Bristol-based group Portishead. Released in August 22, 1994 on Go! Discs, the album earned critical acclaim, winning the 1995 Mercury Music Prize. It is often credited with popularizing the trip-hop genre and is frequently cited in lists of the best albums of the 1990s. Although it achieved modest chart success overseas, it peaked at #2 on the UK Album Chart and saw two of its three singles reach #13. The album was certified gold in 1997 and has sold two million copies in Europe. As of September 2011, the album was certified double-platinum in the United Kingdom and has sold as of September 2011 825,000 copies.\\n      '},\n",
       "  {'title': 'Third',\n",
       "   'songs': [{'title': 'Silence', 'length': '4:58'},\n",
       "    {'title': 'Hunter', 'length': '3:57'},\n",
       "    {'title': 'Nylon Smile', 'length': '3:16'},\n",
       "    {'title': 'The Rip', 'length': '4:29'},\n",
       "    {'title': 'Plastic', 'length': '3:27'},\n",
       "    {'title': 'We Carry On', 'length': '6:27'},\n",
       "    {'title': 'Deep Water', 'length': '1:31'},\n",
       "    {'title': 'Machine Gun', 'length': '4:43'},\n",
       "    {'title': 'Small', 'length': '6:45'},\n",
       "    {'title': 'Magic Doors', 'length': '3:32'},\n",
       "    {'title': 'Threads', 'length': '5:45'}],\n",
       "   'description': \"\\n\\tThird is the third studio album by English musical group Portishead, released on 27 April 2008, on Island Records in the United Kingdom, two days after on Mercury Records in the United States, and on 30 April 2008 on Universal Music Japan in Japan. It is their first release in 10 years, and their first studio album in eleven years. Third entered the UK Album Chart at #2, and became the band's first-ever American Top 10 album on the Billboard 200, reaching #7 in its entry week.\\n      \"}]}"
      ]
     },
     "execution_count": 7,
     "metadata": {},
     "output_type": "execute_result"
    }
   ],
   "source": [
    "objeto_json[1]"
   ]
  },
  {
   "cell_type": "code",
   "execution_count": 8,
   "id": "5b1f12ed",
   "metadata": {},
   "outputs": [
    {
     "data": {
      "text/plain": [
       "'Radiohead'"
      ]
     },
     "execution_count": 8,
     "metadata": {},
     "output_type": "execute_result"
    }
   ],
   "source": [
    "objeto_json[0]['name']"
   ]
  },
  {
   "cell_type": "code",
   "execution_count": 9,
   "id": "de0fd960",
   "metadata": {},
   "outputs": [
    {
     "data": {
      "text/plain": [
       "'Portishead'"
      ]
     },
     "execution_count": 9,
     "metadata": {},
     "output_type": "execute_result"
    }
   ],
   "source": [
    "objeto_json[1]['name']"
   ]
  },
  {
   "cell_type": "code",
   "execution_count": 10,
   "id": "8abf1117",
   "metadata": {},
   "outputs": [
    {
     "data": {
      "text/plain": [
       "[{'title': 'The King of Limbs',\n",
       "  'songs': [{'title': 'Bloom', 'length': '5:15'},\n",
       "   {'title': 'Morning Mr Magpie', 'length': '4:41'},\n",
       "   {'title': 'Little by Little', 'length': '4:27'},\n",
       "   {'title': 'Feral', 'length': '3:13'},\n",
       "   {'title': 'Lotus Flower', 'length': '5:01'},\n",
       "   {'title': 'Codex', 'length': '4:47'},\n",
       "   {'title': 'Give Up the Ghost', 'length': '4:50'},\n",
       "   {'title': 'Separator', 'length': '5:20'}],\n",
       "  'description': '\\n\\tThe King of Limbs is the eighth studio album by English rock band Radiohead, produced by Nigel Godrich. It was self-released on 18 February 2011 as a download in MP3 and WAV formats, followed by physical CD and 12\" vinyl releases on 28 March, a wider digital release via AWAL, and a special \"newspaper\" edition on 9 May 2011. The physical editions were released through the band\\'s Ticker Tape imprint on XL in the United Kingdom, TBD in the United States, and Hostess Entertainment in Japan.\\n      '},\n",
       " {'title': 'OK Computer',\n",
       "  'songs': [{'title': 'Airbag', 'length': '4:44'},\n",
       "   {'title': 'Paranoid Android', 'length': '6:23'},\n",
       "   {'title': 'Subterranean Homesick Alien', 'length': '4:27'},\n",
       "   {'title': 'Exit Music (For a Film)', 'length': '4:24'},\n",
       "   {'title': 'Let Down', 'length': '4:59'},\n",
       "   {'title': 'Karma Police', 'length': '4:21'},\n",
       "   {'title': 'Fitter Happier', 'length': '1:57'},\n",
       "   {'title': 'Electioneering', 'length': '3:50'},\n",
       "   {'title': 'Climbing Up the Walls', 'length': '4:45'},\n",
       "   {'title': 'No Surprises', 'length': '3:48'},\n",
       "   {'title': 'Lucky', 'length': '4:19'},\n",
       "   {'title': 'The Tourist', 'length': '5:24'}],\n",
       "  'description': \"\\n\\tOK Computer is the third studio album by the English alternative rock band Radiohead, released on 16 June 1997 on Parlophone in the United Kingdom and 1 July 1997 by Capitol Records in the United States. It marks a deliberate attempt by the band to move away from the introspective guitar-oriented sound of their previous album The Bends. Its layered sound and wide range of influences set it apart from many of the Britpop and alternative rock bands popular at the time and laid the groundwork for Radiohead's later, more experimental work.\\n      \"}]"
      ]
     },
     "execution_count": 10,
     "metadata": {},
     "output_type": "execute_result"
    }
   ],
   "source": [
    "objeto_json[0]['albums']"
   ]
  },
  {
   "cell_type": "code",
   "execution_count": 11,
   "id": "257872e0",
   "metadata": {},
   "outputs": [
    {
     "data": {
      "text/plain": [
       "list"
      ]
     },
     "execution_count": 11,
     "metadata": {},
     "output_type": "execute_result"
    }
   ],
   "source": [
    "type(objeto_json[0]['albums'])"
   ]
  },
  {
   "cell_type": "code",
   "execution_count": 12,
   "id": "eb76a7dd",
   "metadata": {},
   "outputs": [
    {
     "data": {
      "text/plain": [
       "{'title': 'Morning Mr Magpie', 'length': '4:41'}"
      ]
     },
     "execution_count": 12,
     "metadata": {},
     "output_type": "execute_result"
    }
   ],
   "source": [
    "objeto_json[0]['albums'][0]['songs'][1]"
   ]
  },
  {
   "cell_type": "code",
   "execution_count": 13,
   "id": "9adf0fd6",
   "metadata": {},
   "outputs": [
    {
     "data": {
      "text/plain": [
       "{'title': 'The King of Limbs',\n",
       " 'songs': [{'title': 'Bloom', 'length': '5:15'},\n",
       "  {'title': 'Morning Mr Magpie', 'length': '4:41'},\n",
       "  {'title': 'Little by Little', 'length': '4:27'},\n",
       "  {'title': 'Feral', 'length': '3:13'},\n",
       "  {'title': 'Lotus Flower', 'length': '5:01'},\n",
       "  {'title': 'Codex', 'length': '4:47'},\n",
       "  {'title': 'Give Up the Ghost', 'length': '4:50'},\n",
       "  {'title': 'Separator', 'length': '5:20'}],\n",
       " 'description': '\\n\\tThe King of Limbs is the eighth studio album by English rock band Radiohead, produced by Nigel Godrich. It was self-released on 18 February 2011 as a download in MP3 and WAV formats, followed by physical CD and 12\" vinyl releases on 28 March, a wider digital release via AWAL, and a special \"newspaper\" edition on 9 May 2011. The physical editions were released through the band\\'s Ticker Tape imprint on XL in the United Kingdom, TBD in the United States, and Hostess Entertainment in Japan.\\n      '}"
      ]
     },
     "execution_count": 13,
     "metadata": {},
     "output_type": "execute_result"
    }
   ],
   "source": [
    "objeto_json[0]['albums'][0]"
   ]
  },
  {
   "cell_type": "code",
   "execution_count": 14,
   "id": "8c1595e1",
   "metadata": {},
   "outputs": [
    {
     "data": {
      "text/plain": [
       "{'title': 'OK Computer',\n",
       " 'songs': [{'title': 'Airbag', 'length': '4:44'},\n",
       "  {'title': 'Paranoid Android', 'length': '6:23'},\n",
       "  {'title': 'Subterranean Homesick Alien', 'length': '4:27'},\n",
       "  {'title': 'Exit Music (For a Film)', 'length': '4:24'},\n",
       "  {'title': 'Let Down', 'length': '4:59'},\n",
       "  {'title': 'Karma Police', 'length': '4:21'},\n",
       "  {'title': 'Fitter Happier', 'length': '1:57'},\n",
       "  {'title': 'Electioneering', 'length': '3:50'},\n",
       "  {'title': 'Climbing Up the Walls', 'length': '4:45'},\n",
       "  {'title': 'No Surprises', 'length': '3:48'},\n",
       "  {'title': 'Lucky', 'length': '4:19'},\n",
       "  {'title': 'The Tourist', 'length': '5:24'}],\n",
       " 'description': \"\\n\\tOK Computer is the third studio album by the English alternative rock band Radiohead, released on 16 June 1997 on Parlophone in the United Kingdom and 1 July 1997 by Capitol Records in the United States. It marks a deliberate attempt by the band to move away from the introspective guitar-oriented sound of their previous album The Bends. Its layered sound and wide range of influences set it apart from many of the Britpop and alternative rock bands popular at the time and laid the groundwork for Radiohead's later, more experimental work.\\n      \"}"
      ]
     },
     "execution_count": 14,
     "metadata": {},
     "output_type": "execute_result"
    }
   ],
   "source": [
    "objeto_json[0]['albums'][1]"
   ]
  },
  {
   "cell_type": "code",
   "execution_count": 15,
   "id": "9c80400a",
   "metadata": {},
   "outputs": [
    {
     "data": {
      "text/plain": [
       "[{'title': 'Airbag', 'length': '4:44'},\n",
       " {'title': 'Paranoid Android', 'length': '6:23'},\n",
       " {'title': 'Subterranean Homesick Alien', 'length': '4:27'},\n",
       " {'title': 'Exit Music (For a Film)', 'length': '4:24'},\n",
       " {'title': 'Let Down', 'length': '4:59'},\n",
       " {'title': 'Karma Police', 'length': '4:21'},\n",
       " {'title': 'Fitter Happier', 'length': '1:57'},\n",
       " {'title': 'Electioneering', 'length': '3:50'},\n",
       " {'title': 'Climbing Up the Walls', 'length': '4:45'},\n",
       " {'title': 'No Surprises', 'length': '3:48'},\n",
       " {'title': 'Lucky', 'length': '4:19'},\n",
       " {'title': 'The Tourist', 'length': '5:24'}]"
      ]
     },
     "execution_count": 15,
     "metadata": {},
     "output_type": "execute_result"
    }
   ],
   "source": [
    "objeto_json[0]['albums'][1]['songs']"
   ]
  },
  {
   "cell_type": "code",
   "execution_count": 16,
   "id": "6472e983",
   "metadata": {},
   "outputs": [
    {
     "data": {
      "text/plain": [
       "{'title': 'Airbag', 'length': '4:44'}"
      ]
     },
     "execution_count": 16,
     "metadata": {},
     "output_type": "execute_result"
    }
   ],
   "source": [
    "objeto_json[0]['albums'][1]['songs'][0]"
   ]
  },
  {
   "cell_type": "code",
   "execution_count": 17,
   "id": "652bbe8d",
   "metadata": {},
   "outputs": [],
   "source": [
    "# SACRILÉGIO!!! Vamos remover Airbag do Ok Computer\n",
    "del objeto_json[0]['albums'][1]['songs'][0]"
   ]
  },
  {
   "cell_type": "code",
   "execution_count": 18,
   "id": "6ad0fe41",
   "metadata": {},
   "outputs": [
    {
     "data": {
      "text/plain": [
       "[{'title': 'Paranoid Android', 'length': '6:23'},\n",
       " {'title': 'Subterranean Homesick Alien', 'length': '4:27'},\n",
       " {'title': 'Exit Music (For a Film)', 'length': '4:24'},\n",
       " {'title': 'Let Down', 'length': '4:59'},\n",
       " {'title': 'Karma Police', 'length': '4:21'},\n",
       " {'title': 'Fitter Happier', 'length': '1:57'},\n",
       " {'title': 'Electioneering', 'length': '3:50'},\n",
       " {'title': 'Climbing Up the Walls', 'length': '4:45'},\n",
       " {'title': 'No Surprises', 'length': '3:48'},\n",
       " {'title': 'Lucky', 'length': '4:19'},\n",
       " {'title': 'The Tourist', 'length': '5:24'}]"
      ]
     },
     "execution_count": 18,
     "metadata": {},
     "output_type": "execute_result"
    }
   ],
   "source": [
    "objeto_json[0]['albums'][1]['songs']"
   ]
  },
  {
   "cell_type": "code",
   "execution_count": 19,
   "id": "66b39fa6",
   "metadata": {},
   "outputs": [],
   "source": [
    "with open('./data/bands_errado.json', 'w') as arquivo_errado:\n",
    "    json.dump(objeto_json, arquivo_errado)"
   ]
  },
  {
   "cell_type": "code",
   "execution_count": 20,
   "id": "9d6774a5",
   "metadata": {},
   "outputs": [],
   "source": [
    "with open('./data/bands_errado.json', 'w') as arquivo_errado:\n",
    "    json.dump(objeto_json, arquivo_errado, indent=2)"
   ]
  },
  {
   "cell_type": "code",
   "execution_count": 21,
   "id": "b43ea00d",
   "metadata": {
    "scrolled": true
   },
   "outputs": [
    {
     "data": {
      "text/plain": [
       "[{'name': 'Radiohead',\n",
       "  'albums': [{'title': 'The King of Limbs',\n",
       "    'songs': [{'title': 'Bloom', 'length': '5:15'},\n",
       "     {'title': 'Morning Mr Magpie', 'length': '4:41'},\n",
       "     {'title': 'Little by Little', 'length': '4:27'},\n",
       "     {'title': 'Feral', 'length': '3:13'},\n",
       "     {'title': 'Lotus Flower', 'length': '5:01'},\n",
       "     {'title': 'Codex', 'length': '4:47'},\n",
       "     {'title': 'Give Up the Ghost', 'length': '4:50'},\n",
       "     {'title': 'Separator', 'length': '5:20'}],\n",
       "    'description': '\\n\\tThe King of Limbs is the eighth studio album by English rock band Radiohead, produced by Nigel Godrich. It was self-released on 18 February 2011 as a download in MP3 and WAV formats, followed by physical CD and 12\" vinyl releases on 28 March, a wider digital release via AWAL, and a special \"newspaper\" edition on 9 May 2011. The physical editions were released through the band\\'s Ticker Tape imprint on XL in the United Kingdom, TBD in the United States, and Hostess Entertainment in Japan.\\n      '},\n",
       "   {'title': 'OK Computer',\n",
       "    'songs': [{'title': 'Airbag', 'length': '4:44'},\n",
       "     {'title': 'Paranoid Android', 'length': '6:23'},\n",
       "     {'title': 'Subterranean Homesick Alien', 'length': '4:27'},\n",
       "     {'title': 'Exit Music (For a Film)', 'length': '4:24'},\n",
       "     {'title': 'Let Down', 'length': '4:59'},\n",
       "     {'title': 'Karma Police', 'length': '4:21'},\n",
       "     {'title': 'Fitter Happier', 'length': '1:57'},\n",
       "     {'title': 'Electioneering', 'length': '3:50'},\n",
       "     {'title': 'Climbing Up the Walls', 'length': '4:45'},\n",
       "     {'title': 'No Surprises', 'length': '3:48'},\n",
       "     {'title': 'Lucky', 'length': '4:19'},\n",
       "     {'title': 'The Tourist', 'length': '5:24'}],\n",
       "    'description': \"\\n\\tOK Computer is the third studio album by the English alternative rock band Radiohead, released on 16 June 1997 on Parlophone in the United Kingdom and 1 July 1997 by Capitol Records in the United States. It marks a deliberate attempt by the band to move away from the introspective guitar-oriented sound of their previous album The Bends. Its layered sound and wide range of influences set it apart from many of the Britpop and alternative rock bands popular at the time and laid the groundwork for Radiohead's later, more experimental work.\\n      \"}]},\n",
       " {'name': 'Portishead',\n",
       "  'albums': [{'title': 'Dummy',\n",
       "    'songs': [{'title': 'Mysterons', 'length': '5:02'},\n",
       "     {'title': 'Sour Times', 'length': '4:11'},\n",
       "     {'title': 'Strangers', 'length': '3:55'},\n",
       "     {'title': 'It Could Be Sweet', 'length': '4:16'},\n",
       "     {'title': 'Wandering Star', 'length': '4:51'},\n",
       "     {'title': \"It's a Fire\", 'length': '3:49'},\n",
       "     {'title': 'Numb', 'length': '3:54'},\n",
       "     {'title': 'Roads', 'length': '5:02'},\n",
       "     {'title': 'Pedestal', 'length': '3:39'},\n",
       "     {'title': 'Biscuit', 'length': '5:01'},\n",
       "     {'title': 'Glory Box', 'length': '5:06'}],\n",
       "    'description': '\\n\\tDummy is the debut album of the Bristol-based group Portishead. Released in August 22, 1994 on Go! Discs, the album earned critical acclaim, winning the 1995 Mercury Music Prize. It is often credited with popularizing the trip-hop genre and is frequently cited in lists of the best albums of the 1990s. Although it achieved modest chart success overseas, it peaked at #2 on the UK Album Chart and saw two of its three singles reach #13. The album was certified gold in 1997 and has sold two million copies in Europe. As of September 2011, the album was certified double-platinum in the United Kingdom and has sold as of September 2011 825,000 copies.\\n      '},\n",
       "   {'title': 'Third',\n",
       "    'songs': [{'title': 'Silence', 'length': '4:58'},\n",
       "     {'title': 'Hunter', 'length': '3:57'},\n",
       "     {'title': 'Nylon Smile', 'length': '3:16'},\n",
       "     {'title': 'The Rip', 'length': '4:29'},\n",
       "     {'title': 'Plastic', 'length': '3:27'},\n",
       "     {'title': 'We Carry On', 'length': '6:27'},\n",
       "     {'title': 'Deep Water', 'length': '1:31'},\n",
       "     {'title': 'Machine Gun', 'length': '4:43'},\n",
       "     {'title': 'Small', 'length': '6:45'},\n",
       "     {'title': 'Magic Doors', 'length': '3:32'},\n",
       "     {'title': 'Threads', 'length': '5:45'}],\n",
       "    'description': \"\\n\\tThird is the third studio album by English musical group Portishead, released on 27 April 2008, on Island Records in the United Kingdom, two days after on Mercury Records in the United States, and on 30 April 2008 on Universal Music Japan in Japan. It is their first release in 10 years, and their first studio album in eleven years. Third entered the UK Album Chart at #2, and became the band's first-ever American Top 10 album on the Billboard 200, reaching #7 in its entry week.\\n      \"}]}]"
      ]
     },
     "execution_count": 21,
     "metadata": {},
     "output_type": "execute_result"
    }
   ],
   "source": [
    "with open('./data/bands.json') as arquivo_certo:\n",
    "    obj_certo = json.load(arquivo_certo)\n",
    "\n",
    "obj_certo"
   ]
  },
  {
   "cell_type": "code",
   "execution_count": 22,
   "id": "648344fc",
   "metadata": {},
   "outputs": [],
   "source": [
    "with open('./data/bands_original.json', 'w') as arquivo_certo:\n",
    "    json.dump(obj_certo, arquivo_certo, indent=2)\n"
   ]
  },
  {
   "cell_type": "markdown",
   "id": "f67090e5",
   "metadata": {},
   "source": [
    "### <a> Strings </a> "
   ]
  },
  {
   "cell_type": "code",
   "execution_count": 23,
   "id": "747c8a47",
   "metadata": {
    "scrolled": true
   },
   "outputs": [
    {
     "data": {
      "text/plain": [
       "[{'name': 'Radiohead',\n",
       "  'albums': [{'title': 'The King of Limbs',\n",
       "    'songs': [{'title': 'Bloom', 'length': '5:15'},\n",
       "     {'title': 'Morning Mr Magpie', 'length': '4:41'},\n",
       "     {'title': 'Little by Little', 'length': '4:27'},\n",
       "     {'title': 'Feral', 'length': '3:13'},\n",
       "     {'title': 'Lotus Flower', 'length': '5:01'},\n",
       "     {'title': 'Codex', 'length': '4:47'},\n",
       "     {'title': 'Give Up the Ghost', 'length': '4:50'},\n",
       "     {'title': 'Separator', 'length': '5:20'}],\n",
       "    'description': '\\n\\tThe King of Limbs is the eighth studio album by English rock band Radiohead, produced by Nigel Godrich. It was self-released on 18 February 2011 as a download in MP3 and WAV formats, followed by physical CD and 12\" vinyl releases on 28 March, a wider digital release via AWAL, and a special \"newspaper\" edition on 9 May 2011. The physical editions were released through the band\\'s Ticker Tape imprint on XL in the United Kingdom, TBD in the United States, and Hostess Entertainment in Japan.\\n      '},\n",
       "   {'title': 'OK Computer',\n",
       "    'songs': [{'title': 'Airbag', 'length': '4:44'},\n",
       "     {'title': 'Paranoid Android', 'length': '6:23'},\n",
       "     {'title': 'Subterranean Homesick Alien', 'length': '4:27'},\n",
       "     {'title': 'Exit Music (For a Film)', 'length': '4:24'},\n",
       "     {'title': 'Let Down', 'length': '4:59'},\n",
       "     {'title': 'Karma Police', 'length': '4:21'},\n",
       "     {'title': 'Fitter Happier', 'length': '1:57'},\n",
       "     {'title': 'Electioneering', 'length': '3:50'},\n",
       "     {'title': 'Climbing Up the Walls', 'length': '4:45'},\n",
       "     {'title': 'No Surprises', 'length': '3:48'},\n",
       "     {'title': 'Lucky', 'length': '4:19'},\n",
       "     {'title': 'The Tourist', 'length': '5:24'}],\n",
       "    'description': \"\\n\\tOK Computer is the third studio album by the English alternative rock band Radiohead, released on 16 June 1997 on Parlophone in the United Kingdom and 1 July 1997 by Capitol Records in the United States. It marks a deliberate attempt by the band to move away from the introspective guitar-oriented sound of their previous album The Bends. Its layered sound and wide range of influences set it apart from many of the Britpop and alternative rock bands popular at the time and laid the groundwork for Radiohead's later, more experimental work.\\n      \"}]},\n",
       " {'name': 'Portishead',\n",
       "  'albums': [{'title': 'Dummy',\n",
       "    'songs': [{'title': 'Mysterons', 'length': '5:02'},\n",
       "     {'title': 'Sour Times', 'length': '4:11'},\n",
       "     {'title': 'Strangers', 'length': '3:55'},\n",
       "     {'title': 'It Could Be Sweet', 'length': '4:16'},\n",
       "     {'title': 'Wandering Star', 'length': '4:51'},\n",
       "     {'title': \"It's a Fire\", 'length': '3:49'},\n",
       "     {'title': 'Numb', 'length': '3:54'},\n",
       "     {'title': 'Roads', 'length': '5:02'},\n",
       "     {'title': 'Pedestal', 'length': '3:39'},\n",
       "     {'title': 'Biscuit', 'length': '5:01'},\n",
       "     {'title': 'Glory Box', 'length': '5:06'}],\n",
       "    'description': '\\n\\tDummy is the debut album of the Bristol-based group Portishead. Released in August 22, 1994 on Go! Discs, the album earned critical acclaim, winning the 1995 Mercury Music Prize. It is often credited with popularizing the trip-hop genre and is frequently cited in lists of the best albums of the 1990s. Although it achieved modest chart success overseas, it peaked at #2 on the UK Album Chart and saw two of its three singles reach #13. The album was certified gold in 1997 and has sold two million copies in Europe. As of September 2011, the album was certified double-platinum in the United Kingdom and has sold as of September 2011 825,000 copies.\\n      '},\n",
       "   {'title': 'Third',\n",
       "    'songs': [{'title': 'Silence', 'length': '4:58'},\n",
       "     {'title': 'Hunter', 'length': '3:57'},\n",
       "     {'title': 'Nylon Smile', 'length': '3:16'},\n",
       "     {'title': 'The Rip', 'length': '4:29'},\n",
       "     {'title': 'Plastic', 'length': '3:27'},\n",
       "     {'title': 'We Carry On', 'length': '6:27'},\n",
       "     {'title': 'Deep Water', 'length': '1:31'},\n",
       "     {'title': 'Machine Gun', 'length': '4:43'},\n",
       "     {'title': 'Small', 'length': '6:45'},\n",
       "     {'title': 'Magic Doors', 'length': '3:32'},\n",
       "     {'title': 'Threads', 'length': '5:45'}],\n",
       "    'description': \"\\n\\tThird is the third studio album by English musical group Portishead, released on 27 April 2008, on Island Records in the United Kingdom, two days after on Mercury Records in the United States, and on 30 April 2008 on Universal Music Japan in Japan. It is their first release in 10 years, and their first studio album in eleven years. Third entered the UK Album Chart at #2, and became the band's first-ever American Top 10 album on the Billboard 200, reaching #7 in its entry week.\\n      \"}]}]"
      ]
     },
     "execution_count": 23,
     "metadata": {},
     "output_type": "execute_result"
    }
   ],
   "source": [
    "obj_certo"
   ]
  },
  {
   "cell_type": "code",
   "execution_count": 24,
   "id": "1deba76d",
   "metadata": {},
   "outputs": [
    {
     "data": {
      "text/plain": [
       "list"
      ]
     },
     "execution_count": 24,
     "metadata": {},
     "output_type": "execute_result"
    }
   ],
   "source": [
    "type(obj_certo)"
   ]
  },
  {
   "cell_type": "code",
   "execution_count": 25,
   "id": "9a011080",
   "metadata": {
    "scrolled": true
   },
   "outputs": [
    {
     "data": {
      "text/plain": [
       "'[{\"name\": \"Radiohead\", \"albums\": [{\"title\": \"The King of Limbs\", \"songs\": [{\"title\": \"Bloom\", \"length\": \"5:15\"}, {\"title\": \"Morning Mr Magpie\", \"length\": \"4:41\"}, {\"title\": \"Little by Little\", \"length\": \"4:27\"}, {\"title\": \"Feral\", \"length\": \"3:13\"}, {\"title\": \"Lotus Flower\", \"length\": \"5:01\"}, {\"title\": \"Codex\", \"length\": \"4:47\"}, {\"title\": \"Give Up the Ghost\", \"length\": \"4:50\"}, {\"title\": \"Separator\", \"length\": \"5:20\"}], \"description\": \"\\\\n\\\\tThe King of Limbs is the eighth studio album by English rock band Radiohead, produced by Nigel Godrich. It was self-released on 18 February 2011 as a download in MP3 and WAV formats, followed by physical CD and 12\\\\\" vinyl releases on 28 March, a wider digital release via AWAL, and a special \\\\\"newspaper\\\\\" edition on 9 May 2011. The physical editions were released through the band\\'s Ticker Tape imprint on XL in the United Kingdom, TBD in the United States, and Hostess Entertainment in Japan.\\\\n      \"}, {\"title\": \"OK Computer\", \"songs\": [{\"title\": \"Airbag\", \"length\": \"4:44\"}, {\"title\": \"Paranoid Android\", \"length\": \"6:23\"}, {\"title\": \"Subterranean Homesick Alien\", \"length\": \"4:27\"}, {\"title\": \"Exit Music (For a Film)\", \"length\": \"4:24\"}, {\"title\": \"Let Down\", \"length\": \"4:59\"}, {\"title\": \"Karma Police\", \"length\": \"4:21\"}, {\"title\": \"Fitter Happier\", \"length\": \"1:57\"}, {\"title\": \"Electioneering\", \"length\": \"3:50\"}, {\"title\": \"Climbing Up the Walls\", \"length\": \"4:45\"}, {\"title\": \"No Surprises\", \"length\": \"3:48\"}, {\"title\": \"Lucky\", \"length\": \"4:19\"}, {\"title\": \"The Tourist\", \"length\": \"5:24\"}], \"description\": \"\\\\n\\\\tOK Computer is the third studio album by the English alternative rock band Radiohead, released on 16 June 1997 on Parlophone in the United Kingdom and 1 July 1997 by Capitol Records in the United States. It marks a deliberate attempt by the band to move away from the introspective guitar-oriented sound of their previous album The Bends. Its layered sound and wide range of influences set it apart from many of the Britpop and alternative rock bands popular at the time and laid the groundwork for Radiohead\\'s later, more experimental work.\\\\n      \"}]}, {\"name\": \"Portishead\", \"albums\": [{\"title\": \"Dummy\", \"songs\": [{\"title\": \"Mysterons\", \"length\": \"5:02\"}, {\"title\": \"Sour Times\", \"length\": \"4:11\"}, {\"title\": \"Strangers\", \"length\": \"3:55\"}, {\"title\": \"It Could Be Sweet\", \"length\": \"4:16\"}, {\"title\": \"Wandering Star\", \"length\": \"4:51\"}, {\"title\": \"It\\'s a Fire\", \"length\": \"3:49\"}, {\"title\": \"Numb\", \"length\": \"3:54\"}, {\"title\": \"Roads\", \"length\": \"5:02\"}, {\"title\": \"Pedestal\", \"length\": \"3:39\"}, {\"title\": \"Biscuit\", \"length\": \"5:01\"}, {\"title\": \"Glory Box\", \"length\": \"5:06\"}], \"description\": \"\\\\n\\\\tDummy is the debut album of the Bristol-based group Portishead. Released in August 22, 1994 on Go! Discs, the album earned critical acclaim, winning the 1995 Mercury Music Prize. It is often credited with popularizing the trip-hop genre and is frequently cited in lists of the best albums of the 1990s. Although it achieved modest chart success overseas, it peaked at #2 on the UK Album Chart and saw two of its three singles reach #13. The album was certified gold in 1997 and has sold two million copies in Europe. As of September 2011, the album was certified double-platinum in the United Kingdom and has sold as of September 2011 825,000 copies.\\\\n      \"}, {\"title\": \"Third\", \"songs\": [{\"title\": \"Silence\", \"length\": \"4:58\"}, {\"title\": \"Hunter\", \"length\": \"3:57\"}, {\"title\": \"Nylon Smile\", \"length\": \"3:16\"}, {\"title\": \"The Rip\", \"length\": \"4:29\"}, {\"title\": \"Plastic\", \"length\": \"3:27\"}, {\"title\": \"We Carry On\", \"length\": \"6:27\"}, {\"title\": \"Deep Water\", \"length\": \"1:31\"}, {\"title\": \"Machine Gun\", \"length\": \"4:43\"}, {\"title\": \"Small\", \"length\": \"6:45\"}, {\"title\": \"Magic Doors\", \"length\": \"3:32\"}, {\"title\": \"Threads\", \"length\": \"5:45\"}], \"description\": \"\\\\n\\\\tThird is the third studio album by English musical group Portishead, released on 27 April 2008, on Island Records in the United Kingdom, two days after on Mercury Records in the United States, and on 30 April 2008 on Universal Music Japan in Japan. It is their first release in 10 years, and their first studio album in eleven years. Third entered the UK Album Chart at #2, and became the band\\'s first-ever American Top 10 album on the Billboard 200, reaching #7 in its entry week.\\\\n      \"}]}]'"
      ]
     },
     "execution_count": 25,
     "metadata": {},
     "output_type": "execute_result"
    }
   ],
   "source": [
    "str_json = json.dumps(obj_certo)\n",
    "str_json"
   ]
  },
  {
   "cell_type": "code",
   "execution_count": 26,
   "id": "ab772077",
   "metadata": {},
   "outputs": [
    {
     "data": {
      "text/plain": [
       "str"
      ]
     },
     "execution_count": 26,
     "metadata": {},
     "output_type": "execute_result"
    }
   ],
   "source": [
    "type(str_json)"
   ]
  },
  {
   "cell_type": "code",
   "execution_count": 27,
   "id": "95b6f99a",
   "metadata": {
    "scrolled": true
   },
   "outputs": [
    {
     "data": {
      "text/plain": [
       "[{'name': 'Radiohead',\n",
       "  'albums': [{'title': 'The King of Limbs',\n",
       "    'songs': [{'title': 'Bloom', 'length': '5:15'},\n",
       "     {'title': 'Morning Mr Magpie', 'length': '4:41'},\n",
       "     {'title': 'Little by Little', 'length': '4:27'},\n",
       "     {'title': 'Feral', 'length': '3:13'},\n",
       "     {'title': 'Lotus Flower', 'length': '5:01'},\n",
       "     {'title': 'Codex', 'length': '4:47'},\n",
       "     {'title': 'Give Up the Ghost', 'length': '4:50'},\n",
       "     {'title': 'Separator', 'length': '5:20'}],\n",
       "    'description': '\\n\\tThe King of Limbs is the eighth studio album by English rock band Radiohead, produced by Nigel Godrich. It was self-released on 18 February 2011 as a download in MP3 and WAV formats, followed by physical CD and 12\" vinyl releases on 28 March, a wider digital release via AWAL, and a special \"newspaper\" edition on 9 May 2011. The physical editions were released through the band\\'s Ticker Tape imprint on XL in the United Kingdom, TBD in the United States, and Hostess Entertainment in Japan.\\n      '},\n",
       "   {'title': 'OK Computer',\n",
       "    'songs': [{'title': 'Airbag', 'length': '4:44'},\n",
       "     {'title': 'Paranoid Android', 'length': '6:23'},\n",
       "     {'title': 'Subterranean Homesick Alien', 'length': '4:27'},\n",
       "     {'title': 'Exit Music (For a Film)', 'length': '4:24'},\n",
       "     {'title': 'Let Down', 'length': '4:59'},\n",
       "     {'title': 'Karma Police', 'length': '4:21'},\n",
       "     {'title': 'Fitter Happier', 'length': '1:57'},\n",
       "     {'title': 'Electioneering', 'length': '3:50'},\n",
       "     {'title': 'Climbing Up the Walls', 'length': '4:45'},\n",
       "     {'title': 'No Surprises', 'length': '3:48'},\n",
       "     {'title': 'Lucky', 'length': '4:19'},\n",
       "     {'title': 'The Tourist', 'length': '5:24'}],\n",
       "    'description': \"\\n\\tOK Computer is the third studio album by the English alternative rock band Radiohead, released on 16 June 1997 on Parlophone in the United Kingdom and 1 July 1997 by Capitol Records in the United States. It marks a deliberate attempt by the band to move away from the introspective guitar-oriented sound of their previous album The Bends. Its layered sound and wide range of influences set it apart from many of the Britpop and alternative rock bands popular at the time and laid the groundwork for Radiohead's later, more experimental work.\\n      \"}]},\n",
       " {'name': 'Portishead',\n",
       "  'albums': [{'title': 'Dummy',\n",
       "    'songs': [{'title': 'Mysterons', 'length': '5:02'},\n",
       "     {'title': 'Sour Times', 'length': '4:11'},\n",
       "     {'title': 'Strangers', 'length': '3:55'},\n",
       "     {'title': 'It Could Be Sweet', 'length': '4:16'},\n",
       "     {'title': 'Wandering Star', 'length': '4:51'},\n",
       "     {'title': \"It's a Fire\", 'length': '3:49'},\n",
       "     {'title': 'Numb', 'length': '3:54'},\n",
       "     {'title': 'Roads', 'length': '5:02'},\n",
       "     {'title': 'Pedestal', 'length': '3:39'},\n",
       "     {'title': 'Biscuit', 'length': '5:01'},\n",
       "     {'title': 'Glory Box', 'length': '5:06'}],\n",
       "    'description': '\\n\\tDummy is the debut album of the Bristol-based group Portishead. Released in August 22, 1994 on Go! Discs, the album earned critical acclaim, winning the 1995 Mercury Music Prize. It is often credited with popularizing the trip-hop genre and is frequently cited in lists of the best albums of the 1990s. Although it achieved modest chart success overseas, it peaked at #2 on the UK Album Chart and saw two of its three singles reach #13. The album was certified gold in 1997 and has sold two million copies in Europe. As of September 2011, the album was certified double-platinum in the United Kingdom and has sold as of September 2011 825,000 copies.\\n      '},\n",
       "   {'title': 'Third',\n",
       "    'songs': [{'title': 'Silence', 'length': '4:58'},\n",
       "     {'title': 'Hunter', 'length': '3:57'},\n",
       "     {'title': 'Nylon Smile', 'length': '3:16'},\n",
       "     {'title': 'The Rip', 'length': '4:29'},\n",
       "     {'title': 'Plastic', 'length': '3:27'},\n",
       "     {'title': 'We Carry On', 'length': '6:27'},\n",
       "     {'title': 'Deep Water', 'length': '1:31'},\n",
       "     {'title': 'Machine Gun', 'length': '4:43'},\n",
       "     {'title': 'Small', 'length': '6:45'},\n",
       "     {'title': 'Magic Doors', 'length': '3:32'},\n",
       "     {'title': 'Threads', 'length': '5:45'}],\n",
       "    'description': \"\\n\\tThird is the third studio album by English musical group Portishead, released on 27 April 2008, on Island Records in the United Kingdom, two days after on Mercury Records in the United States, and on 30 April 2008 on Universal Music Japan in Japan. It is their first release in 10 years, and their first studio album in eleven years. Third entered the UK Album Chart at #2, and became the band's first-ever American Top 10 album on the Billboard 200, reaching #7 in its entry week.\\n      \"}]}]"
      ]
     },
     "execution_count": 27,
     "metadata": {},
     "output_type": "execute_result"
    }
   ],
   "source": [
    "objeto_de_novo = json.loads(str_json)\n",
    "objeto_de_novo"
   ]
  },
  {
   "cell_type": "code",
   "execution_count": 28,
   "id": "0b5a12f6",
   "metadata": {},
   "outputs": [
    {
     "data": {
      "text/plain": [
       "list"
      ]
     },
     "execution_count": 28,
     "metadata": {},
     "output_type": "execute_result"
    }
   ],
   "source": [
    "type(objeto_de_novo)"
   ]
  },
  {
   "cell_type": "markdown",
   "id": "a79f706a",
   "metadata": {},
   "source": [
    "## <a> Pandas </a> \n",
    "\n",
    "Uai, mas pandas não trabalha com dados tabulares??? Verdade, padawan! Mas a gente pode fazer algumas transformações pra deixar os dados tabulares, ou mesmo dizer para o pandas como a gente quer que ele interprete os dados estruturados.\n",
    "\n",
    "No método read_json existe um parâmetro \"orient\" que possui as alternativas de valor:\n",
    "- 'split' : dicionarios com formato {index -> [indice], columns -> [colunas], data -> [valores]}\n",
    "\n",
    "- 'records' : listas com formato [{coluna -> valor}, ... , {coluna -> valor}]\n",
    "\n",
    "- 'index' : dicionários com formato {indice -> {coluna -> valor}}\n",
    "\n",
    "- 'columns' : dicionarios com formato {coluna -> {indice -> valor}}\n",
    "\n",
    "- 'values' : um arranjo com valores\n"
   ]
  },
  {
   "cell_type": "code",
   "execution_count": 29,
   "id": "df891330",
   "metadata": {},
   "outputs": [
    {
     "data": {
      "text/plain": [
       "'{\"index\": [\"hamburguer\", \"alface\", \"queijo\", \"molho especial\", \"cebola\", \"picles\", \"p\\\\u00e3o com gergelim\"], \"columns\": [\"qtd\", \"calorias\"], \"data\": [[2, 120], [3, 1], [1, 100], [1, 100], [1, 10], [3, 8], [2, 80]]}'"
      ]
     },
     "execution_count": 29,
     "metadata": {},
     "output_type": "execute_result"
    }
   ],
   "source": [
    "# No split as chaves devem ter EXATAMENTE esses nomes: index, columns e data\n",
    "# 'split' : dicionarios com formato {index -> [indice], columns -> [colunas], data -> [valores]}\n",
    "json_split = json.dumps({\n",
    "    \"index\": [\"hamburguer\",\"alface\",\"queijo\",\"molho especial\", \"cebola\", \"picles\", \"pão com gergelim\"],\n",
    "    \"columns\": [\"qtd\",\"calorias\"],\n",
    "    \"data\": [[2,120],[3,1],[1,100],[1,100], [1, 10], [3, 8], [2, 80]]\n",
    "})\n",
    "\n",
    "json_split"
   ]
  },
  {
   "cell_type": "code",
   "execution_count": 30,
   "id": "5cd7b37d",
   "metadata": {},
   "outputs": [
    {
     "data": {
      "text/html": [
       "<div>\n",
       "<style scoped>\n",
       "    .dataframe tbody tr th:only-of-type {\n",
       "        vertical-align: middle;\n",
       "    }\n",
       "\n",
       "    .dataframe tbody tr th {\n",
       "        vertical-align: top;\n",
       "    }\n",
       "\n",
       "    .dataframe thead th {\n",
       "        text-align: right;\n",
       "    }\n",
       "</style>\n",
       "<table border=\"1\" class=\"dataframe\">\n",
       "  <thead>\n",
       "    <tr style=\"text-align: right;\">\n",
       "      <th></th>\n",
       "      <th>qtd</th>\n",
       "      <th>calorias</th>\n",
       "    </tr>\n",
       "  </thead>\n",
       "  <tbody>\n",
       "    <tr>\n",
       "      <th>hamburguer</th>\n",
       "      <td>2</td>\n",
       "      <td>120</td>\n",
       "    </tr>\n",
       "    <tr>\n",
       "      <th>alface</th>\n",
       "      <td>3</td>\n",
       "      <td>1</td>\n",
       "    </tr>\n",
       "    <tr>\n",
       "      <th>queijo</th>\n",
       "      <td>1</td>\n",
       "      <td>100</td>\n",
       "    </tr>\n",
       "    <tr>\n",
       "      <th>molho especial</th>\n",
       "      <td>1</td>\n",
       "      <td>100</td>\n",
       "    </tr>\n",
       "    <tr>\n",
       "      <th>cebola</th>\n",
       "      <td>1</td>\n",
       "      <td>10</td>\n",
       "    </tr>\n",
       "    <tr>\n",
       "      <th>picles</th>\n",
       "      <td>3</td>\n",
       "      <td>8</td>\n",
       "    </tr>\n",
       "    <tr>\n",
       "      <th>pão com gergelim</th>\n",
       "      <td>2</td>\n",
       "      <td>80</td>\n",
       "    </tr>\n",
       "  </tbody>\n",
       "</table>\n",
       "</div>"
      ],
      "text/plain": [
       "                  qtd  calorias\n",
       "hamburguer          2       120\n",
       "alface              3         1\n",
       "queijo              1       100\n",
       "molho especial      1       100\n",
       "cebola              1        10\n",
       "picles              3         8\n",
       "pão com gergelim    2        80"
      ]
     },
     "execution_count": 30,
     "metadata": {},
     "output_type": "execute_result"
    }
   ],
   "source": [
    "pd.read_json(json_split, orient = 'split')"
   ]
  },
  {
   "cell_type": "code",
   "execution_count": 31,
   "id": "327a9ba1",
   "metadata": {},
   "outputs": [
    {
     "data": {
      "text/plain": [
       "'[{\"ingrediente\": \"hamburguer\", \"qtd\": 2, \"calorias\": 120}, {\"ingrediente\": \"alface\", \"qtd\": 3, \"calorias\": 1}, {\"ingrediente\": \"queijo\", \"qtd\": 1, \"calorias\": 100}, {\"ingrediente\": \"molho especial\", \"qtd\": 1, \"calorias\": 100}]'"
      ]
     },
     "execution_count": 31,
     "metadata": {},
     "output_type": "execute_result"
    }
   ],
   "source": [
    "# 'records' : listas com formato [{coluna -> valor}, ... , {coluna -> valor}]\n",
    "\n",
    "json_record = json.dumps([\n",
    "    {\"ingrediente\":\"hamburguer\",\"qtd\":2,\"calorias\":120},\n",
    "    {\"ingrediente\":\"alface\",\"qtd\":3,\"calorias\":1},\n",
    "    {\"ingrediente\":\"queijo\",\"qtd\":1,\"calorias\":100},\n",
    "    {\"ingrediente\":\"molho especial\",\"qtd\":1,\"calorias\":100}\n",
    "])\n",
    "\n",
    "json_record"
   ]
  },
  {
   "cell_type": "code",
   "execution_count": 32,
   "id": "e7b5a17a",
   "metadata": {},
   "outputs": [
    {
     "data": {
      "text/html": [
       "<div>\n",
       "<style scoped>\n",
       "    .dataframe tbody tr th:only-of-type {\n",
       "        vertical-align: middle;\n",
       "    }\n",
       "\n",
       "    .dataframe tbody tr th {\n",
       "        vertical-align: top;\n",
       "    }\n",
       "\n",
       "    .dataframe thead th {\n",
       "        text-align: right;\n",
       "    }\n",
       "</style>\n",
       "<table border=\"1\" class=\"dataframe\">\n",
       "  <thead>\n",
       "    <tr style=\"text-align: right;\">\n",
       "      <th></th>\n",
       "      <th>qtd</th>\n",
       "      <th>calorias</th>\n",
       "    </tr>\n",
       "    <tr>\n",
       "      <th>ingrediente</th>\n",
       "      <th></th>\n",
       "      <th></th>\n",
       "    </tr>\n",
       "  </thead>\n",
       "  <tbody>\n",
       "    <tr>\n",
       "      <th>hamburguer</th>\n",
       "      <td>2</td>\n",
       "      <td>120</td>\n",
       "    </tr>\n",
       "    <tr>\n",
       "      <th>alface</th>\n",
       "      <td>3</td>\n",
       "      <td>1</td>\n",
       "    </tr>\n",
       "    <tr>\n",
       "      <th>queijo</th>\n",
       "      <td>1</td>\n",
       "      <td>100</td>\n",
       "    </tr>\n",
       "    <tr>\n",
       "      <th>molho especial</th>\n",
       "      <td>1</td>\n",
       "      <td>100</td>\n",
       "    </tr>\n",
       "  </tbody>\n",
       "</table>\n",
       "</div>"
      ],
      "text/plain": [
       "                qtd  calorias\n",
       "ingrediente                  \n",
       "hamburguer        2       120\n",
       "alface            3         1\n",
       "queijo            1       100\n",
       "molho especial    1       100"
      ]
     },
     "execution_count": 32,
     "metadata": {},
     "output_type": "execute_result"
    }
   ],
   "source": [
    "pd.read_json(json_record, orient = 'records').set_index('ingrediente')"
   ]
  },
  {
   "cell_type": "code",
   "execution_count": 33,
   "id": "2453168c",
   "metadata": {},
   "outputs": [
    {
     "data": {
      "text/plain": [
       "'{\"hamburguer\": {\"qtd\": 5, \"calorias\": 20}, \"alface\": {\"qtd\": 8, \"calorias\": 30}, \"queijo\": {\"qtd\": 2, \"calorias\": 120}, \"molho especial\": {\"qtd\": 4, \"calorias\": 16}}'"
      ]
     },
     "execution_count": 33,
     "metadata": {},
     "output_type": "execute_result"
    }
   ],
   "source": [
    "# 'index' : dicionários com formato {indice -> {coluna -> valor}}\n",
    "\n",
    "json_index = json.dumps({\n",
    "    \"hamburguer\": {\n",
    "        \"qtd\": 5, \n",
    "        \"calorias\": 20\n",
    "        },\n",
    "    \"alface\": {\n",
    "        \"qtd\": 8, \n",
    "        \"calorias\": 30\n",
    "        },\n",
    "    \"queijo\": {\n",
    "        \"qtd\": 2, \n",
    "        \"calorias\": 120\n",
    "        },\n",
    "    \"molho especial\": {\n",
    "        \"qtd\": 4, \n",
    "        \"calorias\": 16\n",
    "        }\n",
    "\n",
    "})\n",
    "\n",
    "json_index"
   ]
  },
  {
   "cell_type": "code",
   "execution_count": 34,
   "id": "55ad711d",
   "metadata": {},
   "outputs": [
    {
     "data": {
      "text/html": [
       "<div>\n",
       "<style scoped>\n",
       "    .dataframe tbody tr th:only-of-type {\n",
       "        vertical-align: middle;\n",
       "    }\n",
       "\n",
       "    .dataframe tbody tr th {\n",
       "        vertical-align: top;\n",
       "    }\n",
       "\n",
       "    .dataframe thead th {\n",
       "        text-align: right;\n",
       "    }\n",
       "</style>\n",
       "<table border=\"1\" class=\"dataframe\">\n",
       "  <thead>\n",
       "    <tr style=\"text-align: right;\">\n",
       "      <th></th>\n",
       "      <th>qtd</th>\n",
       "      <th>calorias</th>\n",
       "    </tr>\n",
       "  </thead>\n",
       "  <tbody>\n",
       "    <tr>\n",
       "      <th>hamburguer</th>\n",
       "      <td>5</td>\n",
       "      <td>20</td>\n",
       "    </tr>\n",
       "    <tr>\n",
       "      <th>alface</th>\n",
       "      <td>8</td>\n",
       "      <td>30</td>\n",
       "    </tr>\n",
       "    <tr>\n",
       "      <th>queijo</th>\n",
       "      <td>2</td>\n",
       "      <td>120</td>\n",
       "    </tr>\n",
       "    <tr>\n",
       "      <th>molho especial</th>\n",
       "      <td>4</td>\n",
       "      <td>16</td>\n",
       "    </tr>\n",
       "  </tbody>\n",
       "</table>\n",
       "</div>"
      ],
      "text/plain": [
       "                qtd  calorias\n",
       "hamburguer        5        20\n",
       "alface            8        30\n",
       "queijo            2       120\n",
       "molho especial    4        16"
      ]
     },
     "execution_count": 34,
     "metadata": {},
     "output_type": "execute_result"
    }
   ],
   "source": [
    "pd.read_json(json_index, orient = 'index')"
   ]
  },
  {
   "cell_type": "code",
   "execution_count": 35,
   "id": "e4cf94cd",
   "metadata": {},
   "outputs": [
    {
     "data": {
      "text/plain": [
       "'{\"qtd\": {\"hamburguer\": 2, \"alface\": 1, \"queijo\": 1, \"molho especial\": 1}, \"calorias\": {\"hamburguer\": 120, \"alface\": 1, \"queijo\": 100, \"molho especial\": 100}}'"
      ]
     },
     "execution_count": 35,
     "metadata": {},
     "output_type": "execute_result"
    }
   ],
   "source": [
    "# 'columns' : dicionarios com formato {coluna -> {indice -> valor}}\n",
    "\n",
    "json_columns = json.dumps({\n",
    "    \"qtd\": {\n",
    "        \"hamburguer\": 2,\n",
    "        \"alface\": 1,\n",
    "        \"queijo\": 1,\n",
    "        \"molho especial\": 1\n",
    "    },\n",
    "    \"calorias\": {\n",
    "        \"hamburguer\": 120,\n",
    "        \"alface\": 1,\n",
    "        \"queijo\": 100,\n",
    "        \"molho especial\": 100\n",
    "    }\n",
    "})\n",
    "\n",
    "json_columns"
   ]
  },
  {
   "cell_type": "code",
   "execution_count": 36,
   "id": "6fbe33c3",
   "metadata": {},
   "outputs": [
    {
     "data": {
      "text/html": [
       "<div>\n",
       "<style scoped>\n",
       "    .dataframe tbody tr th:only-of-type {\n",
       "        vertical-align: middle;\n",
       "    }\n",
       "\n",
       "    .dataframe tbody tr th {\n",
       "        vertical-align: top;\n",
       "    }\n",
       "\n",
       "    .dataframe thead th {\n",
       "        text-align: right;\n",
       "    }\n",
       "</style>\n",
       "<table border=\"1\" class=\"dataframe\">\n",
       "  <thead>\n",
       "    <tr style=\"text-align: right;\">\n",
       "      <th></th>\n",
       "      <th>qtd</th>\n",
       "      <th>calorias</th>\n",
       "    </tr>\n",
       "  </thead>\n",
       "  <tbody>\n",
       "    <tr>\n",
       "      <th>hamburguer</th>\n",
       "      <td>2</td>\n",
       "      <td>120</td>\n",
       "    </tr>\n",
       "    <tr>\n",
       "      <th>alface</th>\n",
       "      <td>1</td>\n",
       "      <td>1</td>\n",
       "    </tr>\n",
       "    <tr>\n",
       "      <th>queijo</th>\n",
       "      <td>1</td>\n",
       "      <td>100</td>\n",
       "    </tr>\n",
       "    <tr>\n",
       "      <th>molho especial</th>\n",
       "      <td>1</td>\n",
       "      <td>100</td>\n",
       "    </tr>\n",
       "  </tbody>\n",
       "</table>\n",
       "</div>"
      ],
      "text/plain": [
       "                qtd  calorias\n",
       "hamburguer        2       120\n",
       "alface            1         1\n",
       "queijo            1       100\n",
       "molho especial    1       100"
      ]
     },
     "execution_count": 36,
     "metadata": {},
     "output_type": "execute_result"
    }
   ],
   "source": [
    "pd.read_json(json_columns, orient = 'columns')"
   ]
  },
  {
   "cell_type": "code",
   "execution_count": 37,
   "id": "e9040ef5",
   "metadata": {},
   "outputs": [
    {
     "data": {
      "text/plain": [
       "'[[\"hamburguer\", 2, 120], [\"alface\", 1, 1], [\"queijo\", 1, 100], [\"molho especial\", 1, 100]]'"
      ]
     },
     "execution_count": 37,
     "metadata": {},
     "output_type": "execute_result"
    }
   ],
   "source": [
    "# 'values' : um arranjo com valores\n",
    "\n",
    "json_values = json.dumps([\n",
    "    [\"hamburguer\", 2, 120],\n",
    "    [\"alface\", 1, 1],\n",
    "    [\"queijo\", 1,100],\n",
    "    [\"molho especial\", 1, 100]\n",
    "\n",
    "])\n",
    "\n",
    "json_values"
   ]
  },
  {
   "cell_type": "code",
   "execution_count": 38,
   "id": "4453a192",
   "metadata": {},
   "outputs": [
    {
     "data": {
      "text/html": [
       "<div>\n",
       "<style scoped>\n",
       "    .dataframe tbody tr th:only-of-type {\n",
       "        vertical-align: middle;\n",
       "    }\n",
       "\n",
       "    .dataframe tbody tr th {\n",
       "        vertical-align: top;\n",
       "    }\n",
       "\n",
       "    .dataframe thead th {\n",
       "        text-align: right;\n",
       "    }\n",
       "</style>\n",
       "<table border=\"1\" class=\"dataframe\">\n",
       "  <thead>\n",
       "    <tr style=\"text-align: right;\">\n",
       "      <th></th>\n",
       "      <th>0</th>\n",
       "      <th>1</th>\n",
       "      <th>2</th>\n",
       "    </tr>\n",
       "  </thead>\n",
       "  <tbody>\n",
       "    <tr>\n",
       "      <th>0</th>\n",
       "      <td>hamburguer</td>\n",
       "      <td>2</td>\n",
       "      <td>120</td>\n",
       "    </tr>\n",
       "    <tr>\n",
       "      <th>1</th>\n",
       "      <td>alface</td>\n",
       "      <td>1</td>\n",
       "      <td>1</td>\n",
       "    </tr>\n",
       "    <tr>\n",
       "      <th>2</th>\n",
       "      <td>queijo</td>\n",
       "      <td>1</td>\n",
       "      <td>100</td>\n",
       "    </tr>\n",
       "    <tr>\n",
       "      <th>3</th>\n",
       "      <td>molho especial</td>\n",
       "      <td>1</td>\n",
       "      <td>100</td>\n",
       "    </tr>\n",
       "  </tbody>\n",
       "</table>\n",
       "</div>"
      ],
      "text/plain": [
       "                0  1    2\n",
       "0      hamburguer  2  120\n",
       "1          alface  1    1\n",
       "2          queijo  1  100\n",
       "3  molho especial  1  100"
      ]
     },
     "execution_count": 38,
     "metadata": {},
     "output_type": "execute_result"
    }
   ],
   "source": [
    "pd.read_json(json_values, orient = 'values')"
   ]
  },
  {
   "cell_type": "markdown",
   "id": "6ed3d3dc",
   "metadata": {},
   "source": [
    "#### <a> E para estruturas complexas? </a>\n",
    "\n",
    "E o nosso arquivo??? Ele não parece ser de nenhum tipo porque tem uma estrutura muito \"aninhada\"\n",
    "\n",
    "Para ele precisamos de algo mais \"elaborado\"\n"
   ]
  },
  {
   "cell_type": "markdown",
   "id": "ba6d107d",
   "metadata": {},
   "source": [
    "### <a> \"Achatando\" um json  </a>\n",
    "\n",
    "Uma forma legal de trabalhar com dados mais aninhados é utilizar o json_normalize do pandas.\n",
    "\n",
    "Uma forma legal de entender como normalizar (achatar) o json é pensar ANTES como queremos o resultado.\n",
    "\n",
    "No caso das bandas, faz sentido ter uma linha para cada música, com as colunas para os nomes das bandas e dos álbuns. Sabendo que o nível mais \"profundo\" que queremos ir, fica mais fácil. Bora nessa!"
   ]
  },
  {
   "cell_type": "code",
   "execution_count": 39,
   "id": "26c0c648",
   "metadata": {
    "scrolled": true
   },
   "outputs": [
    {
     "data": {
      "text/plain": [
       "[{'name': 'Radiohead',\n",
       "  'albums': [{'title': 'The King of Limbs',\n",
       "    'songs': [{'title': 'Bloom', 'length': '5:15'},\n",
       "     {'title': 'Morning Mr Magpie', 'length': '4:41'},\n",
       "     {'title': 'Little by Little', 'length': '4:27'},\n",
       "     {'title': 'Feral', 'length': '3:13'},\n",
       "     {'title': 'Lotus Flower', 'length': '5:01'},\n",
       "     {'title': 'Codex', 'length': '4:47'},\n",
       "     {'title': 'Give Up the Ghost', 'length': '4:50'},\n",
       "     {'title': 'Separator', 'length': '5:20'}],\n",
       "    'description': '\\n\\tThe King of Limbs is the eighth studio album by English rock band Radiohead, produced by Nigel Godrich. It was self-released on 18 February 2011 as a download in MP3 and WAV formats, followed by physical CD and 12\" vinyl releases on 28 March, a wider digital release via AWAL, and a special \"newspaper\" edition on 9 May 2011. The physical editions were released through the band\\'s Ticker Tape imprint on XL in the United Kingdom, TBD in the United States, and Hostess Entertainment in Japan.\\n      '},\n",
       "   {'title': 'OK Computer',\n",
       "    'songs': [{'title': 'Airbag', 'length': '4:44'},\n",
       "     {'title': 'Paranoid Android', 'length': '6:23'},\n",
       "     {'title': 'Subterranean Homesick Alien', 'length': '4:27'},\n",
       "     {'title': 'Exit Music (For a Film)', 'length': '4:24'},\n",
       "     {'title': 'Let Down', 'length': '4:59'},\n",
       "     {'title': 'Karma Police', 'length': '4:21'},\n",
       "     {'title': 'Fitter Happier', 'length': '1:57'},\n",
       "     {'title': 'Electioneering', 'length': '3:50'},\n",
       "     {'title': 'Climbing Up the Walls', 'length': '4:45'},\n",
       "     {'title': 'No Surprises', 'length': '3:48'},\n",
       "     {'title': 'Lucky', 'length': '4:19'},\n",
       "     {'title': 'The Tourist', 'length': '5:24'}],\n",
       "    'description': \"\\n\\tOK Computer is the third studio album by the English alternative rock band Radiohead, released on 16 June 1997 on Parlophone in the United Kingdom and 1 July 1997 by Capitol Records in the United States. It marks a deliberate attempt by the band to move away from the introspective guitar-oriented sound of their previous album The Bends. Its layered sound and wide range of influences set it apart from many of the Britpop and alternative rock bands popular at the time and laid the groundwork for Radiohead's later, more experimental work.\\n      \"}]},\n",
       " {'name': 'Portishead',\n",
       "  'albums': [{'title': 'Dummy',\n",
       "    'songs': [{'title': 'Mysterons', 'length': '5:02'},\n",
       "     {'title': 'Sour Times', 'length': '4:11'},\n",
       "     {'title': 'Strangers', 'length': '3:55'},\n",
       "     {'title': 'It Could Be Sweet', 'length': '4:16'},\n",
       "     {'title': 'Wandering Star', 'length': '4:51'},\n",
       "     {'title': \"It's a Fire\", 'length': '3:49'},\n",
       "     {'title': 'Numb', 'length': '3:54'},\n",
       "     {'title': 'Roads', 'length': '5:02'},\n",
       "     {'title': 'Pedestal', 'length': '3:39'},\n",
       "     {'title': 'Biscuit', 'length': '5:01'},\n",
       "     {'title': 'Glory Box', 'length': '5:06'}],\n",
       "    'description': '\\n\\tDummy is the debut album of the Bristol-based group Portishead. Released in August 22, 1994 on Go! Discs, the album earned critical acclaim, winning the 1995 Mercury Music Prize. It is often credited with popularizing the trip-hop genre and is frequently cited in lists of the best albums of the 1990s. Although it achieved modest chart success overseas, it peaked at #2 on the UK Album Chart and saw two of its three singles reach #13. The album was certified gold in 1997 and has sold two million copies in Europe. As of September 2011, the album was certified double-platinum in the United Kingdom and has sold as of September 2011 825,000 copies.\\n      '},\n",
       "   {'title': 'Third',\n",
       "    'songs': [{'title': 'Silence', 'length': '4:58'},\n",
       "     {'title': 'Hunter', 'length': '3:57'},\n",
       "     {'title': 'Nylon Smile', 'length': '3:16'},\n",
       "     {'title': 'The Rip', 'length': '4:29'},\n",
       "     {'title': 'Plastic', 'length': '3:27'},\n",
       "     {'title': 'We Carry On', 'length': '6:27'},\n",
       "     {'title': 'Deep Water', 'length': '1:31'},\n",
       "     {'title': 'Machine Gun', 'length': '4:43'},\n",
       "     {'title': 'Small', 'length': '6:45'},\n",
       "     {'title': 'Magic Doors', 'length': '3:32'},\n",
       "     {'title': 'Threads', 'length': '5:45'}],\n",
       "    'description': \"\\n\\tThird is the third studio album by English musical group Portishead, released on 27 April 2008, on Island Records in the United Kingdom, two days after on Mercury Records in the United States, and on 30 April 2008 on Universal Music Japan in Japan. It is their first release in 10 years, and their first studio album in eleven years. Third entered the UK Album Chart at #2, and became the band's first-ever American Top 10 album on the Billboard 200, reaching #7 in its entry week.\\n      \"}]}]"
      ]
     },
     "execution_count": 39,
     "metadata": {},
     "output_type": "execute_result"
    }
   ],
   "source": [
    "# Vamos recuperar a estrutura de bandas original\n",
    "with open('./data/bands.json') as arquivo_json:\n",
    "    objeto_json = json.load(arquivo_json)\n",
    "\n",
    "objeto_json"
   ]
  },
  {
   "cell_type": "code",
   "execution_count": 40,
   "id": "66a339c3",
   "metadata": {},
   "outputs": [
    {
     "data": {
      "text/html": [
       "<div>\n",
       "<style scoped>\n",
       "    .dataframe tbody tr th:only-of-type {\n",
       "        vertical-align: middle;\n",
       "    }\n",
       "\n",
       "    .dataframe tbody tr th {\n",
       "        vertical-align: top;\n",
       "    }\n",
       "\n",
       "    .dataframe thead th {\n",
       "        text-align: right;\n",
       "    }\n",
       "</style>\n",
       "<table border=\"1\" class=\"dataframe\">\n",
       "  <thead>\n",
       "    <tr style=\"text-align: right;\">\n",
       "      <th></th>\n",
       "      <th>title</th>\n",
       "      <th>length</th>\n",
       "      <th>name</th>\n",
       "      <th>albums.title</th>\n",
       "    </tr>\n",
       "  </thead>\n",
       "  <tbody>\n",
       "    <tr>\n",
       "      <th>0</th>\n",
       "      <td>Bloom</td>\n",
       "      <td>5:15</td>\n",
       "      <td>Radiohead</td>\n",
       "      <td>The King of Limbs</td>\n",
       "    </tr>\n",
       "    <tr>\n",
       "      <th>1</th>\n",
       "      <td>Morning Mr Magpie</td>\n",
       "      <td>4:41</td>\n",
       "      <td>Radiohead</td>\n",
       "      <td>The King of Limbs</td>\n",
       "    </tr>\n",
       "    <tr>\n",
       "      <th>2</th>\n",
       "      <td>Little by Little</td>\n",
       "      <td>4:27</td>\n",
       "      <td>Radiohead</td>\n",
       "      <td>The King of Limbs</td>\n",
       "    </tr>\n",
       "    <tr>\n",
       "      <th>3</th>\n",
       "      <td>Feral</td>\n",
       "      <td>3:13</td>\n",
       "      <td>Radiohead</td>\n",
       "      <td>The King of Limbs</td>\n",
       "    </tr>\n",
       "    <tr>\n",
       "      <th>4</th>\n",
       "      <td>Lotus Flower</td>\n",
       "      <td>5:01</td>\n",
       "      <td>Radiohead</td>\n",
       "      <td>The King of Limbs</td>\n",
       "    </tr>\n",
       "  </tbody>\n",
       "</table>\n",
       "</div>"
      ],
      "text/plain": [
       "               title length       name       albums.title\n",
       "0              Bloom   5:15  Radiohead  The King of Limbs\n",
       "1  Morning Mr Magpie   4:41  Radiohead  The King of Limbs\n",
       "2   Little by Little   4:27  Radiohead  The King of Limbs\n",
       "3              Feral   3:13  Radiohead  The King of Limbs\n",
       "4       Lotus Flower   5:01  Radiohead  The King of Limbs"
      ]
     },
     "execution_count": 40,
     "metadata": {},
     "output_type": "execute_result"
    }
   ],
   "source": [
    "df = pd.json_normalize(objeto_json, record_path=['albums', 'songs'], meta=['name', ['albums', 'title']])\n",
    "df.head()"
   ]
  },
  {
   "cell_type": "code",
   "execution_count": 41,
   "id": "8c998714",
   "metadata": {},
   "outputs": [
    {
     "data": {
      "text/html": [
       "<div>\n",
       "<style scoped>\n",
       "    .dataframe tbody tr th:only-of-type {\n",
       "        vertical-align: middle;\n",
       "    }\n",
       "\n",
       "    .dataframe tbody tr th {\n",
       "        vertical-align: top;\n",
       "    }\n",
       "\n",
       "    .dataframe thead th {\n",
       "        text-align: right;\n",
       "    }\n",
       "</style>\n",
       "<table border=\"1\" class=\"dataframe\">\n",
       "  <thead>\n",
       "    <tr style=\"text-align: right;\">\n",
       "      <th></th>\n",
       "      <th></th>\n",
       "      <th>title</th>\n",
       "      <th>length</th>\n",
       "    </tr>\n",
       "    <tr>\n",
       "      <th>name</th>\n",
       "      <th>albums.title</th>\n",
       "      <th></th>\n",
       "      <th></th>\n",
       "    </tr>\n",
       "  </thead>\n",
       "  <tbody>\n",
       "    <tr>\n",
       "      <th rowspan=\"20\" valign=\"top\">Radiohead</th>\n",
       "      <th>The King of Limbs</th>\n",
       "      <td>Bloom</td>\n",
       "      <td>5:15</td>\n",
       "    </tr>\n",
       "    <tr>\n",
       "      <th>The King of Limbs</th>\n",
       "      <td>Morning Mr Magpie</td>\n",
       "      <td>4:41</td>\n",
       "    </tr>\n",
       "    <tr>\n",
       "      <th>The King of Limbs</th>\n",
       "      <td>Little by Little</td>\n",
       "      <td>4:27</td>\n",
       "    </tr>\n",
       "    <tr>\n",
       "      <th>The King of Limbs</th>\n",
       "      <td>Feral</td>\n",
       "      <td>3:13</td>\n",
       "    </tr>\n",
       "    <tr>\n",
       "      <th>The King of Limbs</th>\n",
       "      <td>Lotus Flower</td>\n",
       "      <td>5:01</td>\n",
       "    </tr>\n",
       "    <tr>\n",
       "      <th>The King of Limbs</th>\n",
       "      <td>Codex</td>\n",
       "      <td>4:47</td>\n",
       "    </tr>\n",
       "    <tr>\n",
       "      <th>The King of Limbs</th>\n",
       "      <td>Give Up the Ghost</td>\n",
       "      <td>4:50</td>\n",
       "    </tr>\n",
       "    <tr>\n",
       "      <th>The King of Limbs</th>\n",
       "      <td>Separator</td>\n",
       "      <td>5:20</td>\n",
       "    </tr>\n",
       "    <tr>\n",
       "      <th>OK Computer</th>\n",
       "      <td>Airbag</td>\n",
       "      <td>4:44</td>\n",
       "    </tr>\n",
       "    <tr>\n",
       "      <th>OK Computer</th>\n",
       "      <td>Paranoid Android</td>\n",
       "      <td>6:23</td>\n",
       "    </tr>\n",
       "    <tr>\n",
       "      <th>OK Computer</th>\n",
       "      <td>Subterranean Homesick Alien</td>\n",
       "      <td>4:27</td>\n",
       "    </tr>\n",
       "    <tr>\n",
       "      <th>OK Computer</th>\n",
       "      <td>Exit Music (For a Film)</td>\n",
       "      <td>4:24</td>\n",
       "    </tr>\n",
       "    <tr>\n",
       "      <th>OK Computer</th>\n",
       "      <td>Let Down</td>\n",
       "      <td>4:59</td>\n",
       "    </tr>\n",
       "    <tr>\n",
       "      <th>OK Computer</th>\n",
       "      <td>Karma Police</td>\n",
       "      <td>4:21</td>\n",
       "    </tr>\n",
       "    <tr>\n",
       "      <th>OK Computer</th>\n",
       "      <td>Fitter Happier</td>\n",
       "      <td>1:57</td>\n",
       "    </tr>\n",
       "    <tr>\n",
       "      <th>OK Computer</th>\n",
       "      <td>Electioneering</td>\n",
       "      <td>3:50</td>\n",
       "    </tr>\n",
       "    <tr>\n",
       "      <th>OK Computer</th>\n",
       "      <td>Climbing Up the Walls</td>\n",
       "      <td>4:45</td>\n",
       "    </tr>\n",
       "    <tr>\n",
       "      <th>OK Computer</th>\n",
       "      <td>No Surprises</td>\n",
       "      <td>3:48</td>\n",
       "    </tr>\n",
       "    <tr>\n",
       "      <th>OK Computer</th>\n",
       "      <td>Lucky</td>\n",
       "      <td>4:19</td>\n",
       "    </tr>\n",
       "    <tr>\n",
       "      <th>OK Computer</th>\n",
       "      <td>The Tourist</td>\n",
       "      <td>5:24</td>\n",
       "    </tr>\n",
       "    <tr>\n",
       "      <th rowspan=\"22\" valign=\"top\">Portishead</th>\n",
       "      <th>Dummy</th>\n",
       "      <td>Mysterons</td>\n",
       "      <td>5:02</td>\n",
       "    </tr>\n",
       "    <tr>\n",
       "      <th>Dummy</th>\n",
       "      <td>Sour Times</td>\n",
       "      <td>4:11</td>\n",
       "    </tr>\n",
       "    <tr>\n",
       "      <th>Dummy</th>\n",
       "      <td>Strangers</td>\n",
       "      <td>3:55</td>\n",
       "    </tr>\n",
       "    <tr>\n",
       "      <th>Dummy</th>\n",
       "      <td>It Could Be Sweet</td>\n",
       "      <td>4:16</td>\n",
       "    </tr>\n",
       "    <tr>\n",
       "      <th>Dummy</th>\n",
       "      <td>Wandering Star</td>\n",
       "      <td>4:51</td>\n",
       "    </tr>\n",
       "    <tr>\n",
       "      <th>Dummy</th>\n",
       "      <td>It's a Fire</td>\n",
       "      <td>3:49</td>\n",
       "    </tr>\n",
       "    <tr>\n",
       "      <th>Dummy</th>\n",
       "      <td>Numb</td>\n",
       "      <td>3:54</td>\n",
       "    </tr>\n",
       "    <tr>\n",
       "      <th>Dummy</th>\n",
       "      <td>Roads</td>\n",
       "      <td>5:02</td>\n",
       "    </tr>\n",
       "    <tr>\n",
       "      <th>Dummy</th>\n",
       "      <td>Pedestal</td>\n",
       "      <td>3:39</td>\n",
       "    </tr>\n",
       "    <tr>\n",
       "      <th>Dummy</th>\n",
       "      <td>Biscuit</td>\n",
       "      <td>5:01</td>\n",
       "    </tr>\n",
       "    <tr>\n",
       "      <th>Dummy</th>\n",
       "      <td>Glory Box</td>\n",
       "      <td>5:06</td>\n",
       "    </tr>\n",
       "    <tr>\n",
       "      <th>Third</th>\n",
       "      <td>Silence</td>\n",
       "      <td>4:58</td>\n",
       "    </tr>\n",
       "    <tr>\n",
       "      <th>Third</th>\n",
       "      <td>Hunter</td>\n",
       "      <td>3:57</td>\n",
       "    </tr>\n",
       "    <tr>\n",
       "      <th>Third</th>\n",
       "      <td>Nylon Smile</td>\n",
       "      <td>3:16</td>\n",
       "    </tr>\n",
       "    <tr>\n",
       "      <th>Third</th>\n",
       "      <td>The Rip</td>\n",
       "      <td>4:29</td>\n",
       "    </tr>\n",
       "    <tr>\n",
       "      <th>Third</th>\n",
       "      <td>Plastic</td>\n",
       "      <td>3:27</td>\n",
       "    </tr>\n",
       "    <tr>\n",
       "      <th>Third</th>\n",
       "      <td>We Carry On</td>\n",
       "      <td>6:27</td>\n",
       "    </tr>\n",
       "    <tr>\n",
       "      <th>Third</th>\n",
       "      <td>Deep Water</td>\n",
       "      <td>1:31</td>\n",
       "    </tr>\n",
       "    <tr>\n",
       "      <th>Third</th>\n",
       "      <td>Machine Gun</td>\n",
       "      <td>4:43</td>\n",
       "    </tr>\n",
       "    <tr>\n",
       "      <th>Third</th>\n",
       "      <td>Small</td>\n",
       "      <td>6:45</td>\n",
       "    </tr>\n",
       "    <tr>\n",
       "      <th>Third</th>\n",
       "      <td>Magic Doors</td>\n",
       "      <td>3:32</td>\n",
       "    </tr>\n",
       "    <tr>\n",
       "      <th>Third</th>\n",
       "      <td>Threads</td>\n",
       "      <td>5:45</td>\n",
       "    </tr>\n",
       "  </tbody>\n",
       "</table>\n",
       "</div>"
      ],
      "text/plain": [
       "                                                    title length\n",
       "name       albums.title                                         \n",
       "Radiohead  The King of Limbs                        Bloom   5:15\n",
       "           The King of Limbs            Morning Mr Magpie   4:41\n",
       "           The King of Limbs             Little by Little   4:27\n",
       "           The King of Limbs                        Feral   3:13\n",
       "           The King of Limbs                 Lotus Flower   5:01\n",
       "           The King of Limbs                        Codex   4:47\n",
       "           The King of Limbs            Give Up the Ghost   4:50\n",
       "           The King of Limbs                    Separator   5:20\n",
       "           OK Computer                             Airbag   4:44\n",
       "           OK Computer                   Paranoid Android   6:23\n",
       "           OK Computer        Subterranean Homesick Alien   4:27\n",
       "           OK Computer            Exit Music (For a Film)   4:24\n",
       "           OK Computer                           Let Down   4:59\n",
       "           OK Computer                       Karma Police   4:21\n",
       "           OK Computer                     Fitter Happier   1:57\n",
       "           OK Computer                     Electioneering   3:50\n",
       "           OK Computer              Climbing Up the Walls   4:45\n",
       "           OK Computer                       No Surprises   3:48\n",
       "           OK Computer                              Lucky   4:19\n",
       "           OK Computer                        The Tourist   5:24\n",
       "Portishead Dummy                                Mysterons   5:02\n",
       "           Dummy                               Sour Times   4:11\n",
       "           Dummy                                Strangers   3:55\n",
       "           Dummy                        It Could Be Sweet   4:16\n",
       "           Dummy                           Wandering Star   4:51\n",
       "           Dummy                              It's a Fire   3:49\n",
       "           Dummy                                     Numb   3:54\n",
       "           Dummy                                    Roads   5:02\n",
       "           Dummy                                 Pedestal   3:39\n",
       "           Dummy                                  Biscuit   5:01\n",
       "           Dummy                                Glory Box   5:06\n",
       "           Third                                  Silence   4:58\n",
       "           Third                                   Hunter   3:57\n",
       "           Third                              Nylon Smile   3:16\n",
       "           Third                                  The Rip   4:29\n",
       "           Third                                  Plastic   3:27\n",
       "           Third                              We Carry On   6:27\n",
       "           Third                               Deep Water   1:31\n",
       "           Third                              Machine Gun   4:43\n",
       "           Third                                    Small   6:45\n",
       "           Third                              Magic Doors   3:32\n",
       "           Third                                  Threads   5:45"
      ]
     },
     "execution_count": 41,
     "metadata": {},
     "output_type": "execute_result"
    }
   ],
   "source": [
    "df.set_index(['name', 'albums.title'])"
   ]
  },
  {
   "cell_type": "code",
   "execution_count": null,
   "id": "7e5e0bf7",
   "metadata": {},
   "outputs": [],
   "source": []
  },
  {
   "cell_type": "code",
   "execution_count": null,
   "id": "74126e21",
   "metadata": {},
   "outputs": [],
   "source": []
  },
  {
   "cell_type": "code",
   "execution_count": null,
   "id": "f2b1117d",
   "metadata": {},
   "outputs": [],
   "source": []
  },
  {
   "cell_type": "code",
   "execution_count": null,
   "id": "60bced9c",
   "metadata": {},
   "outputs": [],
   "source": []
  },
  {
   "cell_type": "code",
   "execution_count": null,
   "id": "b98eb088",
   "metadata": {},
   "outputs": [],
   "source": []
  },
  {
   "cell_type": "code",
   "execution_count": null,
   "id": "f366b886",
   "metadata": {},
   "outputs": [],
   "source": []
  },
  {
   "cell_type": "code",
   "execution_count": null,
   "id": "706297dc",
   "metadata": {},
   "outputs": [],
   "source": []
  }
 ],
 "metadata": {
  "kernelspec": {
   "display_name": "Python 3",
   "language": "python",
   "name": "python3"
  },
  "language_info": {
   "codemirror_mode": {
    "name": "ipython",
    "version": 3
   },
   "file_extension": ".py",
   "mimetype": "text/x-python",
   "name": "python",
   "nbconvert_exporter": "python",
   "pygments_lexer": "ipython3",
   "version": "3.7.8"
  }
 },
 "nbformat": 4,
 "nbformat_minor": 5
}
